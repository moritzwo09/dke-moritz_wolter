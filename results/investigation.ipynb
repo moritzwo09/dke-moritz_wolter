{
 "cells": [
  {
   "cell_type": "code",
   "execution_count": null,
   "id": "f745f342",
   "metadata": {},
   "outputs": [
    {
     "name": "stdout",
     "output_type": "stream",
     "text": [
      "Figure - Ground Truth: 3\n",
      "Figure - PDFBOT: 41\n",
      "Figure - Regex: 1\n",
      "Figure - Original: 74\n",
      "Acknowledgments - Ground Truth: 1\n",
      "Acknowledgments - PDFBOT: 7\n",
      "Acknowledgments - Regex: 3\n",
      "Acknowledgments - Original: 16\n",
      "Table - Ground Truth: 1\n",
      "Table - PDFBOT: 6\n",
      "Table - Regex: 0\n",
      "Table - Original: 7\n",
      "References - Ground Truth: 0\n",
      "References - PDFBOT: 3\n",
      "References - Regex: 0\n",
      "References - Original: 20\n",
      "Email and URL - Ground Truth: 1\n",
      "Email and URL - PDFBOT: 82\n",
      "Email and URL - Regex: 0\n",
      "Email and URL - Original: 1788\n"
     ]
    }
   ],
   "source": [
    "from pathlib import Path\n",
    "import re\n",
    "\n",
    "PDFBOT_CLEANED = Path(\"../PDFBoT/output/extracted_texts\")\n",
    "CLEANED_DIR = Path(\"../regex_cleaning/cleaned_papers\")\n",
    "GROUND_TRUTH_DIR = Path(\"../regex_cleaning/ground_truth\")\n",
    "ORIGINAL_PAPERS = Path(\"../regex_cleaning/txt_dataset\")\n",
    "\n",
    "# Count frequency of keywords in cleaned texts to compare methods\n",
    "def count_pattern_frequency(directory, pattern):\n",
    "    total_count = 0\n",
    "\n",
    "    for file_path in directory.glob(\"**/*\"):  # Recursively check all files\n",
    "        if file_path.is_file():\n",
    "            try:\n",
    "                with file_path.open(\"r\", encoding=\"utf-8\") as file:\n",
    "                    text = file.read()\n",
    "                    matches = pattern.findall(text)\n",
    "                    total_count += len(matches)\n",
    "            except Exception as e:\n",
    "                print(f\"Could not read file {file_path}: {e}\")\n",
    "    \n",
    "    return total_count\n",
    "\n",
    "# Regex patterns\n",
    "figure_pattern = re.compile(r'^\\s*(fig|figure)\\s+\\d+\\.', re.IGNORECASE | re.MULTILINE)\n",
    "acknowledgments_pattern = re.compile(r'\\backnowledg(e)?ments?\\b', re.IGNORECASE)\n",
    "table_pattern = re.compile(r'^\\s*table\\s+\\d+\\.', re.IGNORECASE | re.MULTILINE)\n",
    "references_pattern = re.compile(r'^\\s*references\\b', re.IGNORECASE | re.MULTILINE)\n",
    "email_and_url_pattern = re.compile(r'\\b(?:https?://\\S+|ChemRxiv\\S*|[\\w\\.-]+@[\\w\\.-]+\\.\\w+)\\b',re.IGNORECASE)\n",
    "\n",
    "patterns = {\n",
    "    \"Figure\": figure_pattern,\n",
    "    \"Acknowledgments\": acknowledgments_pattern,\n",
    "    \"Table\": table_pattern,\n",
    "    \"References\": references_pattern,\n",
    "    \"Email and URL\": email_and_url_pattern\n",
    "}\n",
    "\n",
    "for label, pattern in patterns.items():\n",
    "    pdfbot_freq = count_pattern_frequency(PDFBOT_CLEANED, pattern)\n",
    "    regex_freq = count_pattern_frequency(CLEANED_DIR, pattern)\n",
    "    ground_truth_freq = count_pattern_frequency(GROUND_TRUTH_DIR, pattern)\n",
    "    original_freq = count_pattern_frequency(ORIGINAL_PAPERS, pattern)\n",
    "    print(f\"{label} - Ground Truth: {ground_truth_freq}\")\n",
    "    print(f\"{label} - PDFBOT: {pdfbot_freq}\")\n",
    "    print(f\"{label} - Regex: {regex_freq}\")\n",
    "    print(f\"{label} - Original: {original_freq}\")\n",
    "\n"
   ]
  },
  {
   "cell_type": "code",
   "execution_count": 26,
   "id": "315d8e98",
   "metadata": {},
   "outputs": [
    {
     "name": "stdout",
     "output_type": "stream",
     "text": [
      "Total lines after 'References' in PDFBoT_CLEANED: 180\n"
     ]
    }
   ],
   "source": [
    "from pathlib import Path\n",
    "import re\n",
    "\n",
    "# count number of lines after keyword \"References\"\n",
    "def count_lines_after_references(directory):\n",
    "   \n",
    "    total_lines = 0\n",
    "    references_pattern = re.compile(r'^\\s*references\\b', re.IGNORECASE | re.MULTILINE)\n",
    "    \n",
    "    for file_path in directory.glob(\"**/*\"):\n",
    "        if file_path.is_file() and file_path.suffix.lower() in ('.txt', '.md', ''):\n",
    "            try:\n",
    "                with file_path.open(\"r\", encoding=\"utf-8\") as file:\n",
    "                    text = file.read()\n",
    "                    \n",
    "                    # match with the regex pattern\n",
    "                    matches = list(references_pattern.finditer(text))\n",
    "                    if matches:\n",
    "                        # Take the last occurrence of 'References'\n",
    "                        last_ref = matches[-1]\n",
    "                        # Get all text after the last 'References'\n",
    "                        text_after = text[last_ref.end():]\n",
    "                        # Count non-empty lines\n",
    "                        lines = [line for line in text_after.split('\\n') if line.strip()]\n",
    "                        total_lines += len(lines)\n",
    "                        \n",
    "            except Exception as e:\n",
    "                print(f\"Could not process file {file_path}: {e}\")\n",
    "    \n",
    "    return total_lines\n",
    "\n",
    "PDFBOT_CLEANED = Path(\"../PDFBoT/output/extracted_texts\")\n",
    "lines_after_ref = count_lines_after_references(PDFBOT_CLEANED)\n",
    "print(f\"Total lines after 'References' in PDFBoT_CLEANED: {lines_after_ref}\")"
   ]
  }
 ],
 "metadata": {
  "kernelspec": {
   "display_name": "dke",
   "language": "python",
   "name": "python3"
  },
  "language_info": {
   "codemirror_mode": {
    "name": "ipython",
    "version": 3
   },
   "file_extension": ".py",
   "mimetype": "text/x-python",
   "name": "python",
   "nbconvert_exporter": "python",
   "pygments_lexer": "ipython3",
   "version": "3.9.21"
  }
 },
 "nbformat": 4,
 "nbformat_minor": 5
}
